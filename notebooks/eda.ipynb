{
 "cells": [
  {
   "cell_type": "code",
   "execution_count": 23,
   "metadata": {},
   "outputs": [],
   "source": [
    "import pandas as pd \n",
    "from sklearn.preprocessing import LabelEncoder"
   ]
  },
  {
   "cell_type": "code",
   "execution_count": 24,
   "metadata": {},
   "outputs": [],
   "source": [
    "data=pd.read_csv('../Data/Characters.csv',delimiter=';')"
   ]
  },
  {
   "cell_type": "code",
   "execution_count": 25,
   "metadata": {},
   "outputs": [
    {
     "data": {
      "text/html": [
       "<div>\n",
       "<style scoped>\n",
       "    .dataframe tbody tr th:only-of-type {\n",
       "        vertical-align: middle;\n",
       "    }\n",
       "\n",
       "    .dataframe tbody tr th {\n",
       "        vertical-align: top;\n",
       "    }\n",
       "\n",
       "    .dataframe thead th {\n",
       "        text-align: right;\n",
       "    }\n",
       "</style>\n",
       "<table border=\"1\" class=\"dataframe\">\n",
       "  <thead>\n",
       "    <tr style=\"text-align: right;\">\n",
       "      <th></th>\n",
       "      <th>Id</th>\n",
       "      <th>Name</th>\n",
       "      <th>Gender</th>\n",
       "      <th>Job</th>\n",
       "      <th>House</th>\n",
       "      <th>Wand</th>\n",
       "      <th>Patronus</th>\n",
       "      <th>Species</th>\n",
       "      <th>Blood status</th>\n",
       "      <th>Hair colour</th>\n",
       "      <th>Eye colour</th>\n",
       "      <th>Loyalty</th>\n",
       "      <th>Skills</th>\n",
       "      <th>Birth</th>\n",
       "      <th>Death</th>\n",
       "    </tr>\n",
       "  </thead>\n",
       "  <tbody>\n",
       "    <tr>\n",
       "      <th>0</th>\n",
       "      <td>1</td>\n",
       "      <td>Harry James Potter</td>\n",
       "      <td>Male</td>\n",
       "      <td>Student</td>\n",
       "      <td>Gryffindor</td>\n",
       "      <td>11\"  Holly  phoenix feather</td>\n",
       "      <td>Stag</td>\n",
       "      <td>Human</td>\n",
       "      <td>Half-blood</td>\n",
       "      <td>Black</td>\n",
       "      <td>Bright green</td>\n",
       "      <td>Albus Dumbledore | Dumbledore's Army | Order o...</td>\n",
       "      <td>Parseltongue| Defence Against the Dark Arts | ...</td>\n",
       "      <td>31 July 1980</td>\n",
       "      <td>NaN</td>\n",
       "    </tr>\n",
       "    <tr>\n",
       "      <th>1</th>\n",
       "      <td>2</td>\n",
       "      <td>Ronald Bilius Weasley</td>\n",
       "      <td>Male</td>\n",
       "      <td>Student</td>\n",
       "      <td>Gryffindor</td>\n",
       "      <td>12\" Ash unicorn tail hair</td>\n",
       "      <td>Jack Russell terrier</td>\n",
       "      <td>Human</td>\n",
       "      <td>Pure-blood</td>\n",
       "      <td>Red</td>\n",
       "      <td>Blue</td>\n",
       "      <td>Dumbledore's Army | Order of the Phoenix | Hog...</td>\n",
       "      <td>Wizard chess | Quidditch goalkeeping</td>\n",
       "      <td>1 March 1980</td>\n",
       "      <td>NaN</td>\n",
       "    </tr>\n",
       "    <tr>\n",
       "      <th>2</th>\n",
       "      <td>3</td>\n",
       "      <td>Hermione Jean Granger</td>\n",
       "      <td>Female</td>\n",
       "      <td>Student</td>\n",
       "      <td>Gryffindor</td>\n",
       "      <td>10¾\"  vine wood dragon heartstring</td>\n",
       "      <td>Otter</td>\n",
       "      <td>Human</td>\n",
       "      <td>Muggle-born</td>\n",
       "      <td>Brown</td>\n",
       "      <td>Brown</td>\n",
       "      <td>Dumbledore's Army | Order of the Phoenix | Hog...</td>\n",
       "      <td>Almost everything</td>\n",
       "      <td>19 September, 1979</td>\n",
       "      <td>NaN</td>\n",
       "    </tr>\n",
       "    <tr>\n",
       "      <th>3</th>\n",
       "      <td>4</td>\n",
       "      <td>Albus Percival Wulfric Brian Dumbledore</td>\n",
       "      <td>Male</td>\n",
       "      <td>Headmaster</td>\n",
       "      <td>Gryffindor</td>\n",
       "      <td>15\" Elder Thestral tail hair core</td>\n",
       "      <td>Phoenix</td>\n",
       "      <td>Human</td>\n",
       "      <td>Half-blood</td>\n",
       "      <td>Silver| formerly auburn</td>\n",
       "      <td>Blue</td>\n",
       "      <td>Dumbledore's Army | Order of the Phoenix | Hog...</td>\n",
       "      <td>Considered by many to be one of the most power...</td>\n",
       "      <td>Late August 1881</td>\n",
       "      <td>30 June, 1997</td>\n",
       "    </tr>\n",
       "    <tr>\n",
       "      <th>4</th>\n",
       "      <td>5</td>\n",
       "      <td>Rubeus Hagrid</td>\n",
       "      <td>Male</td>\n",
       "      <td>Keeper of Keys and Grounds | Professor of Care...</td>\n",
       "      <td>Gryffindor</td>\n",
       "      <td>16\"  Oak unknown core</td>\n",
       "      <td>NaN</td>\n",
       "      <td>Half-Human/Half-Giant</td>\n",
       "      <td>Part-Human (Half-giant)</td>\n",
       "      <td>Black</td>\n",
       "      <td>Black</td>\n",
       "      <td>Albus Dumbledore | Order of the Phoenix | Hogw...</td>\n",
       "      <td>Resistant to stunning spells| above average st...</td>\n",
       "      <td>6 December 1928</td>\n",
       "      <td>NaN</td>\n",
       "    </tr>\n",
       "  </tbody>\n",
       "</table>\n",
       "</div>"
      ],
      "text/plain": [
       "   Id                                     Name  Gender  \\\n",
       "0   1                       Harry James Potter    Male   \n",
       "1   2                    Ronald Bilius Weasley    Male   \n",
       "2   3                    Hermione Jean Granger  Female   \n",
       "3   4  Albus Percival Wulfric Brian Dumbledore    Male   \n",
       "4   5                            Rubeus Hagrid    Male   \n",
       "\n",
       "                                                 Job       House  \\\n",
       "0                                            Student  Gryffindor   \n",
       "1                                            Student  Gryffindor   \n",
       "2                                            Student  Gryffindor   \n",
       "3                                         Headmaster  Gryffindor   \n",
       "4  Keeper of Keys and Grounds | Professor of Care...  Gryffindor   \n",
       "\n",
       "                                 Wand              Patronus  \\\n",
       "0         11\"  Holly  phoenix feather                  Stag   \n",
       "1          12\" Ash unicorn tail hair   Jack Russell terrier   \n",
       "2  10¾\"  vine wood dragon heartstring                 Otter   \n",
       "3   15\" Elder Thestral tail hair core               Phoenix   \n",
       "4               16\"  Oak unknown core                   NaN   \n",
       "\n",
       "                 Species             Blood status              Hair colour  \\\n",
       "0                  Human               Half-blood                    Black   \n",
       "1                  Human               Pure-blood                      Red   \n",
       "2                  Human              Muggle-born                    Brown   \n",
       "3                  Human               Half-blood  Silver| formerly auburn   \n",
       "4  Half-Human/Half-Giant  Part-Human (Half-giant)                    Black   \n",
       "\n",
       "     Eye colour                                            Loyalty  \\\n",
       "0  Bright green  Albus Dumbledore | Dumbledore's Army | Order o...   \n",
       "1          Blue  Dumbledore's Army | Order of the Phoenix | Hog...   \n",
       "2         Brown  Dumbledore's Army | Order of the Phoenix | Hog...   \n",
       "3          Blue  Dumbledore's Army | Order of the Phoenix | Hog...   \n",
       "4         Black  Albus Dumbledore | Order of the Phoenix | Hogw...   \n",
       "\n",
       "                                              Skills               Birth  \\\n",
       "0  Parseltongue| Defence Against the Dark Arts | ...        31 July 1980   \n",
       "1               Wizard chess | Quidditch goalkeeping        1 March 1980   \n",
       "2                                  Almost everything  19 September, 1979   \n",
       "3  Considered by many to be one of the most power...    Late August 1881   \n",
       "4  Resistant to stunning spells| above average st...     6 December 1928   \n",
       "\n",
       "            Death  \n",
       "0             NaN  \n",
       "1             NaN  \n",
       "2             NaN  \n",
       "3  30 June, 1997   \n",
       "4             NaN  "
      ]
     },
     "execution_count": 25,
     "metadata": {},
     "output_type": "execute_result"
    }
   ],
   "source": [
    "data.head()"
   ]
  },
  {
   "cell_type": "code",
   "execution_count": 26,
   "metadata": {},
   "outputs": [
    {
     "data": {
      "text/plain": [
       "Id               0\n",
       "Name             0\n",
       "Gender           1\n",
       "Job             19\n",
       "House           39\n",
       "Wand             8\n",
       "Patronus        17\n",
       "Species          0\n",
       "Blood status    17\n",
       "Hair colour     17\n",
       "Eye colour      54\n",
       "Loyalty         51\n",
       "Skills          27\n",
       "Birth           13\n",
       "Death           98\n",
       "dtype: int64"
      ]
     },
     "execution_count": 26,
     "metadata": {},
     "output_type": "execute_result"
    }
   ],
   "source": [
    "data.isna().sum()"
   ]
  },
  {
   "cell_type": "code",
   "execution_count": 27,
   "metadata": {},
   "outputs": [],
   "source": [
    "data=data[['Gender','Patronus','Species','Blood status','Hair colour','Eye colour','House']]"
   ]
  },
  {
   "cell_type": "code",
   "execution_count": 28,
   "metadata": {},
   "outputs": [],
   "source": [
    "data.fillna('Unknown',inplace=True)"
   ]
  },
  {
   "cell_type": "code",
   "execution_count": 34,
   "metadata": {},
   "outputs": [],
   "source": [
    "label_encoder={}\n",
    "for columns in data.columns:\n",
    "    encoder=LabelEncoder()\n",
    "    data[columns]=encoder.fit_transform(data[columns])\n",
    "    label_encoder[columns]=encoder\n",
    "\n",
    "# data.apply(LabelEncoder().fit_transform)"
   ]
  },
  {
   "cell_type": "code",
   "execution_count": 38,
   "metadata": {},
   "outputs": [
    {
     "data": {
      "text/plain": [
       "array(['Female', 'Male', 'Female'], dtype=object)"
      ]
     },
     "execution_count": 38,
     "metadata": {},
     "output_type": "execute_result"
    }
   ],
   "source": [
    "label_encoder['Gender'].inverse_transform([0,1])"
   ]
  },
  {
   "cell_type": "code",
   "execution_count": null,
   "metadata": {},
   "outputs": [],
   "source": [
    "data"
   ]
  }
 ],
 "metadata": {
  "kernelspec": {
   "display_name": "hp",
   "language": "python",
   "name": "python3"
  },
  "language_info": {
   "codemirror_mode": {
    "name": "ipython",
    "version": 3
   },
   "file_extension": ".py",
   "mimetype": "text/x-python",
   "name": "python",
   "nbconvert_exporter": "python",
   "pygments_lexer": "ipython3",
   "version": "3.11.7"
  }
 },
 "nbformat": 4,
 "nbformat_minor": 2
}
